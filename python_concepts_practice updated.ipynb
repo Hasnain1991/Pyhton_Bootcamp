{
 "cells": [
  {
   "cell_type": "markdown",
   "id": "c28affa9",
   "metadata": {},
   "source": [
    "# Python Basics Assignment Notebook\n",
    "Instructions\n",
    "Complete all the exercises below. Each section corresponds to the concepts covered in class. Write your code in the designated cells and test your solutions."
   ]
  },
  {
   "cell_type": "markdown",
   "id": "d753050e",
   "metadata": {},
   "source": [
    "# Section 1: Print Statements and Basic Operations\n",
    "### Exercise 1.1: Print Statement\n",
    "\n",
    "Write a print statement that displays your name."
   ]
  },
  {
   "cell_type": "code",
   "execution_count": null,
   "id": "5dd3cbe8",
   "metadata": {},
   "outputs": [],
   "source": [
    "name = \"Hasnain Abbas\"\n",
    "print (name)    # Hasnain Abbas\n"
   ]
  },
  {
   "cell_type": "markdown",
   "id": "9787a1fc",
   "metadata": {},
   "source": [
    "### Exercise 1.2: Arithmetic Operations\n",
    "Calculate and print the results of the following operations:\n",
    "\n",
    "- Add 15 and 25\n",
    "- Subtract 30 from 50\n",
    "- Multiply 7 by 8\n",
    "- Divide 100 by 4\n",
    "- Find the integer division of 100 by 3\n",
    "- Find the remainder when 100 is divided by 3\n",
    "- Calculate 2 to the power of 5"
   ]
  },
  {
   "cell_type": "code",
   "execution_count": null,
   "id": "0e3f8a53",
   "metadata": {},
   "outputs": [],
   "source": [
    "#Add 15 and 25\n",
    "\n",
    "x = 15\n",
    "y = 25\n",
    "\n",
    "print (x + y) # 40\n",
    "\n",
    "#Subtract 30 from 50\n",
    "\n",
    "x = 50\n",
    "y = 30\n",
    "\n",
    "print (x - y) # 20\n",
    "\n",
    "#Multiply 7 by 8\n",
    "\n",
    "x = 7\n",
    "y = 8\n",
    "\n",
    "print (x * y) # 56\n",
    "\n",
    "#Divide 100 by 4\n",
    "\n",
    "x = 100\n",
    "y = 4\n",
    "\n",
    "print (x / y) # 25.0 (float division)\n",
    "\n",
    "#Find the integer division of 100 by 3\n",
    "\n",
    "x = 100\n",
    "y = 3\n",
    "\n",
    "print (x // y) # 33\n",
    "\n",
    "#Find the remainder when 100 is divided by 3\n",
    "\n",
    "x = 100\n",
    "y = 3\n",
    "\n",
    "print (x % y) # 1\n",
    "\n",
    "#Calculate 2 to the power of 5\n",
    "\n",
    "x = 2\n",
    "y = 5\n",
    "\n",
    "print (x**y) # 32\n"
   ]
  },
  {
   "cell_type": "code",
   "execution_count": null,
   "id": "960bd718",
   "metadata": {},
   "outputs": [],
   "source": [
    "x = float(input (\"enter value of x: \"))\n",
    "y = (3*x**2 + 5*x - 5) / (1-2 * x)\n",
    "print (y) # x = 2.5 the ans is -6.5625"
   ]
  },
  {
   "cell_type": "markdown",
   "id": "5498283c",
   "metadata": {},
   "source": [
    "#  Section 2: Variables and Assignment Operators\n",
    "### Exercise 2.1: Variable Assignment\n",
    "\n",
    "Create variables with the following values:\n",
    "\n",
    "- student_name = your name\n",
    "- age = your age\n",
    "- grade = your current grade/class\n",
    "\n",
    "Print all three variables."
   ]
  },
  {
   "cell_type": "code",
   "execution_count": null,
   "id": "77b416ac",
   "metadata": {},
   "outputs": [],
   "source": [
    "student_name = \"Hasnain Abbas\"\n",
    "age = 34\n",
    "grade = \"First Division\"\n",
    "\n",
    "print (student_name, age, grade) # Hasnain Abbas 34 First Division"
   ]
  },
  {
   "cell_type": "markdown",
   "id": "1e7171bb",
   "metadata": {},
   "source": [
    "### Exercise 2.2: Mathematical Operations with Variables\n",
    "Create two variables a = 10 and b = 5. Then:\n",
    "\n",
    "- Calculate their sum and store in variable sum_result\n",
    "- Calculate their product and store in variable product_result\n",
    "- Print both results"
   ]
  },
  {
   "cell_type": "code",
   "execution_count": null,
   "id": "855024ba",
   "metadata": {},
   "outputs": [],
   "source": [
    "a = 10\n",
    "b = 5\n",
    "\n",
    "variable_sum_result = (a + b)\n",
    "variable_product_result = (a*b)\n",
    "\n",
    "print(variable_sum_result) # 15\n",
    "print(variable_product_result) # 50"
   ]
  },
  {
   "cell_type": "markdown",
   "id": "43f5582a",
   "metadata": {},
   "source": [
    "### Exercise 2.3: Increment and Decrement Operators\n",
    "Start with a variable counter = 0:\n",
    "\n",
    "- Increment it by 3 using the += operator\n",
    "- Print the result\n",
    "- Decrement it by 1 using the -= operator\n",
    "- Print the final result"
   ]
  },
  {
   "cell_type": "code",
   "execution_count": null,
   "id": "715a472d",
   "metadata": {},
   "outputs": [],
   "source": [
    "counter = 0\n",
    "counter += 3\n",
    "print (counter) # 3\n",
    "\n",
    "counter -= 1\n",
    "print (counter) # 2"
   ]
  },
  {
   "cell_type": "markdown",
   "id": "a302e721",
   "metadata": {},
   "source": [
    "# Section 3: Data Types\n",
    "### Exercise 3.1: Identifying Data Types\n",
    "Create variables of different types and check their types:\n",
    "\n",
    "- An integer: num1 = 42\n",
    "- A string: text1 = \"Python Programming\"\n",
    "- A float: decimal1 = 3.14159\n",
    "- A boolean: is_student = True\n",
    "\n",
    "Use the type() function to check and print the type of each variable."
   ]
  },
  {
   "cell_type": "code",
   "execution_count": null,
   "id": "3e240477",
   "metadata": {},
   "outputs": [],
   "source": [
    "num1 = 42\n",
    "print (type(num1)) # class 'int'\n",
    "\n",
    "text1 = \"Pyhton Programming\"\n",
    "print (type(text1)) # class 'str'\n",
    "\n",
    "decimal1 = 3.14159\n",
    "print (type(decimal1)) # class 'float'\n",
    "\n",
    "is_student  = True\n",
    "print (type(is_student)) # class 'bool'"
   ]
  },
  {
   "cell_type": "markdown",
   "id": "783be222",
   "metadata": {},
   "source": [
    "# Section 4: Strings and String Handling\n",
    "### Exercise 4.1: String Creation\n",
    "Create three string variables:\n",
    "\n",
    "- greeting = \"Hello\"\n",
    "- name = \"Python\"\n",
    "- exclamation = \"!\""
   ]
  },
  {
   "cell_type": "code",
   "execution_count": null,
   "id": "768bab0f",
   "metadata": {},
   "outputs": [],
   "source": [
    "greeting = \"Hello\"\n",
    "name = \"Python\"\n",
    "exclamation = \"!\""
   ]
  },
  {
   "cell_type": "markdown",
   "id": "8d579589",
   "metadata": {},
   "source": [
    "### Exercise 4.2: String Concatenation\n",
    "Using the variables from Exercise 4.1, concatenate them to create:\n",
    "\n",
    "- \"Hello Python!\"\n",
    "- \"Python Hello!\"\n",
    "\n",
    "Print both results."
   ]
  },
  {
   "cell_type": "code",
   "execution_count": null,
   "id": "72208381",
   "metadata": {},
   "outputs": [],
   "source": [
    "print (greeting, name+exclamation) #Hello Python!\n",
    "print (name, greeting+exclamation) #Python Hello!"
   ]
  },
  {
   "cell_type": "markdown",
   "id": "cf66e2a4",
   "metadata": {},
   "source": [
    "### Exercise 4.3: String and Number Concatenation\n",
    "Create:\n",
    "\n",
    "- label = \"Your score is: \"\n",
    "- score = 95\n",
    "\n",
    "Concatenate them to print \"Your score is: 95\""
   ]
  },
  {
   "cell_type": "code",
   "execution_count": null,
   "id": "cee7791c",
   "metadata": {},
   "outputs": [],
   "source": [
    "print (label + str(score)) #Your Score is: 95\n"
   ]
  },
  {
   "cell_type": "markdown",
   "id": "2941c047",
   "metadata": {},
   "source": [
    "# Section 5: Type Conversion\n",
    "### Exercise 5.1: String to Integer\n",
    "Given str_num = \"25\":\n",
    "\n",
    "- Check its type\n",
    "- Convert it to an integer\n",
    "- Check the type of the converted value\n",
    "- Print both the original and converted values"
   ]
  },
  {
   "cell_type": "code",
   "execution_count": null,
   "id": "3f60f60e",
   "metadata": {},
   "outputs": [],
   "source": [
    "str_num = \"25\"\n",
    "int_num = int(str_num)\n",
    "\n",
    "print (type(int_num)) # <class 'int'>\n",
    "print (str_num) # 25\n",
    "print (int_num) # 25"
   ]
  },
  {
   "cell_type": "markdown",
   "id": "745d3efa",
   "metadata": {},
   "source": [
    "### Exercise 5.2: Adding Numbers with Type Conversion\n",
    "You have:\n",
    "\n",
    "- num_a = 10\n",
    "- num_b = \"15\"\n",
    "\n",
    "Add these two numbers by converting num_b to an integer"
   ]
  },
  {
   "cell_type": "code",
   "execution_count": null,
   "id": "0af97c14",
   "metadata": {},
   "outputs": [],
   "source": [
    "num_c=int(num_b)\n",
    "sum = num_a + num_c\n",
    "print (sum) #25\n",
    "\n",
    "other way\n",
    "sum = num_a + int(num_b)\n",
    "print (sum) # 25"
   ]
  },
  {
   "cell_type": "markdown",
   "id": "e49ca983",
   "metadata": {},
   "source": [
    "# Section 6: String Indexing\n",
    "### Exercise 6.1: Basic String Indexing\n",
    "\n",
    "Given student_name = \"Python\":\n",
    "\n",
    "- Print the character at index 2\n",
    "- Print the last character using negative indexing\n",
    "- Print the second-to-last character\n",
    "- Print the first character using negative indexing\n",
    "- Print the first and last characters together (e.g., \"P,n\")\n",
    "- Print characters at positions 0, 5, and -1 together"
   ]
  },
  {
   "cell_type": "code",
   "execution_count": null,
   "id": "1308ec0b",
   "metadata": {},
   "outputs": [],
   "source": [
    "print (Student_name[2]) #h\n",
    "print (student_name[-1]) #n\n",
    "print (student_name[1:]) #yhton\n",
    "print (student_name[-6]) #P\n",
    "print (student_name[0] + student_name [-1]) #Pn\n",
    "print (student_name [0] + student_name [5] + student_name [-1]) #Pnn"
   ]
  },
  {
   "cell_type": "markdown",
   "id": "9a6200bb",
   "metadata": {},
   "source": [
    "# Section 7: String Slicing\n",
    "### Exercise 7.1: Basic Slicing\n",
    "Given text = \"Hello, Python!\":\n",
    "\n",
    "- Extract \"Hello\"\n",
    "- Extract \"Python\"\n",
    "- Extract the last 5 characters"
   ]
  },
  {
   "cell_type": "code",
   "execution_count": null,
   "id": "37f370b7",
   "metadata": {},
   "outputs": [],
   "source": [
    "print (text[0:5]) # Hello\n",
    "print (text[7:13]) # Python\n",
    "other way\n",
    "print (text [-7:-1]) # Python\n",
    "print (text [-5:]) #thon!"
   ]
  },
  {
   "cell_type": "markdown",
   "id": "45428fbc",
   "metadata": {},
   "source": [
    "### Exercise 7.2: Advanced Slicing\n",
    "Using alphabet = \"abcdefghijklmno\":\n",
    "\n",
    "- Extract \"cde\"\n",
    "- Extract every second character starting from index 0\n",
    "- Extract the string in reverse order\n",
    "- Extract every third character"
   ]
  },
  {
   "cell_type": "code",
   "execution_count": null,
   "id": "d42f1d9f",
   "metadata": {},
   "outputs": [],
   "source": [
    "print (alphabet[2:5]) # cde\n",
    "print (alphabet[1::2]) # bdfhjln\n",
    "print (alphabet[-1::-1]) # onmlkjihgfedcba\n",
    "print (alphabet[2::3]) # cfilo"
   ]
  },
  {
   "cell_type": "markdown",
   "id": "f46f7b53",
   "metadata": {},
   "source": [
    "### Exercise 7.3: Practical Slicing\n",
    "Given sentence = \"Python programming is fun\":\n",
    "\n",
    "- Extract the word \"Python\"\n",
    "- Extract the word \"programming\"\n",
    "- Extract the last word \"fun\"\n",
    "- Extract every other character from the entire string"
   ]
  },
  {
   "cell_type": "code",
   "execution_count": null,
   "id": "fc62cca3",
   "metadata": {},
   "outputs": [],
   "source": [
    "print (sentence[0:6]) # Python\n",
    "print (sentence[7:18]) # Programming\n",
    "print (sentence[-3:]) # Fun\n",
    "print (sentence[1::2]) # yhnPormigi u"
   ]
  },
  {
   "cell_type": "markdown",
   "id": "fdc66f21",
   "metadata": {},
   "source": [
    "# Section 8: String Methods\n",
    "### Exercise 8.1: Mixed String Methods\n",
    "Create a program that:\n",
    "\n",
    "- Takes a string user_input = \"  hello WORLD  \"\n",
    "- Removes leading and trailing spaces (use .strip())\n",
    "- Converts it to title case\n",
    "- Checks if the result is alphabetic\n",
    "- Count the number of \"o\" characters\n",
    "- Replace \"o\" with \"0\""
   ]
  },
  {
   "cell_type": "code",
   "execution_count": null,
   "id": "d002cc6f",
   "metadata": {},
   "outputs": [],
   "source": [
    "user_input = \"hello WORLD\"\n",
    "\n",
    "print (user_input.strip()) # hello WORLD\n",
    "print (user_input.title()) # Hello World\n",
    "print (user_input.isalpha()) # False\n",
    "print (user_input.count(\"o\")) # 1\n",
    "print (user_input.replace(\"o\",\"O\")) # hellO WORLD\n",
    "print(user_input.isalpha()) # False"
   ]
  },
  {
   "cell_type": "markdown",
   "id": "b4ac379d",
   "metadata": {},
   "source": [
    "# Section 9: Debugging Exercise\n",
    "### Exercise 9.1: Find and Fix the Errors\n",
    "The following code has several errors. Identify and fix them:\n",
    "\n",
    "```\n",
    "# Original code with errors (DO NOT RUN - FIX FIRST)\n",
    "name = 'John\n",
    "age = \"25\"\n",
    "print(\"Hello, \" + name)\n",
    "print(\"You are \" + age + \" years old\")\n",
    "print(name[0] + name[-1)\n",
    "result = int(\"abc\")\n",
    "```\n",
    "\n",
    "Write the corrected version below:"
   ]
  },
  {
   "cell_type": "code",
   "execution_count": null,
   "id": "2b40e20f",
   "metadata": {},
   "outputs": [],
   "source": [
    "name = \"John\" # No apostrophe at end\n",
    "age = \"25\" # ok (because below we need to concatenate so we need str value)\n",
    "print (\"Hello, \" + name) # Ok! Result=Hello, John\n",
    "print (\"You are \" + age + \" years old\") # Ok! Result = You are 25 years old\n",
    "print (name[0] + name[-1]) #There was no sq bracket closing. Result=Jn\n",
    "result = int(\"abc\") #abc cant be an integer value\n"
   ]
  }
 ],
 "metadata": {
  "kernelspec": {
   "display_name": "Python 3",
   "language": "python",
   "name": "python3"
  },
  "language_info": {
   "name": "python",
   "version": "3.8.9"
  }
 },
 "nbformat": 4,
 "nbformat_minor": 5
}
